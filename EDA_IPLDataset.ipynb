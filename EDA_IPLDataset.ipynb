{
  "nbformat": 4,
  "nbformat_minor": 5,
  "metadata": {
    "kernelspec": {
      "display_name": "Python 3",
      "language": "python",
      "name": "python3"
    },
    "language_info": {
      "codemirror_mode": {
        "name": "ipython",
        "version": 3
      },
      "file_extension": ".py",
      "mimetype": "text/x-python",
      "name": "python",
      "nbconvert_exporter": "python",
      "pygments_lexer": "ipython3",
      "version": "3.9.5"
    },
    "colab": {
      "name": "miniproj2.ipynb",
      "provenance": []
    }
  },
  "cells": [
    {
      "cell_type": "code",
      "metadata": {
        "id": "6eb4a126"
      },
      "source": [
        ""
      ],
      "id": "6eb4a126",
      "execution_count": null,
      "outputs": []
    },
    {
      "cell_type": "code",
      "metadata": {
        "id": "da9d5a69",
        "outputId": "49ce9ddf-2b44-41c9-9848-812ea11a5183"
      },
      "source": [
        "import pandas as pd\n",
        "from matplotlib import pyplot as plt\n",
        "import seaborn as sns\n",
        "\n",
        "df=pd.read_csv(C:/Desktop/pandas/iplanalysis/matches.csv')\n",
        "\n",
        "\n",
        "df.head()\n"
      ],
      "id": "da9d5a69",
      "execution_count": null,
      "outputs": [
        {
          "data": {
            "text/html": [
              "<div>\n",
              "<style scoped>\n",
              "    .dataframe tbody tr th:only-of-type {\n",
              "        vertical-align: middle;\n",
              "    }\n",
              "\n",
              "    .dataframe tbody tr th {\n",
              "        vertical-align: top;\n",
              "    }\n",
              "\n",
              "    .dataframe thead th {\n",
              "        text-align: right;\n",
              "    }\n",
              "</style>\n",
              "<table border=\"1\" class=\"dataframe\">\n",
              "  <thead>\n",
              "    <tr style=\"text-align: right;\">\n",
              "      <th></th>\n",
              "      <th>id</th>\n",
              "      <th>season</th>\n",
              "      <th>city</th>\n",
              "      <th>date</th>\n",
              "      <th>team1</th>\n",
              "      <th>team2</th>\n",
              "      <th>toss_winner</th>\n",
              "      <th>toss_decision</th>\n",
              "      <th>result</th>\n",
              "      <th>dl_applied</th>\n",
              "      <th>winner</th>\n",
              "      <th>win_by_runs</th>\n",
              "      <th>win_by_wickets</th>\n",
              "      <th>player_of_match</th>\n",
              "      <th>venue</th>\n",
              "      <th>umpire1</th>\n",
              "      <th>umpire2</th>\n",
              "      <th>umpire3</th>\n",
              "    </tr>\n",
              "  </thead>\n",
              "  <tbody>\n",
              "    <tr>\n",
              "      <th>0</th>\n",
              "      <td>1</td>\n",
              "      <td>2017</td>\n",
              "      <td>Hyderabad</td>\n",
              "      <td>2017-04-05</td>\n",
              "      <td>Sunrisers Hyderabad</td>\n",
              "      <td>Royal Challengers Bangalore</td>\n",
              "      <td>Royal Challengers Bangalore</td>\n",
              "      <td>field</td>\n",
              "      <td>normal</td>\n",
              "      <td>0</td>\n",
              "      <td>Sunrisers Hyderabad</td>\n",
              "      <td>35</td>\n",
              "      <td>0</td>\n",
              "      <td>Yuvraj Singh</td>\n",
              "      <td>Rajiv Gandhi International Stadium, Uppal</td>\n",
              "      <td>AY Dandekar</td>\n",
              "      <td>NJ Llong</td>\n",
              "      <td>NaN</td>\n",
              "    </tr>\n",
              "    <tr>\n",
              "      <th>1</th>\n",
              "      <td>2</td>\n",
              "      <td>2017</td>\n",
              "      <td>Pune</td>\n",
              "      <td>2017-04-06</td>\n",
              "      <td>Mumbai Indians</td>\n",
              "      <td>Rising Pune Supergiant</td>\n",
              "      <td>Rising Pune Supergiant</td>\n",
              "      <td>field</td>\n",
              "      <td>normal</td>\n",
              "      <td>0</td>\n",
              "      <td>Rising Pune Supergiant</td>\n",
              "      <td>0</td>\n",
              "      <td>7</td>\n",
              "      <td>SPD Smith</td>\n",
              "      <td>Maharashtra Cricket Association Stadium</td>\n",
              "      <td>A Nand Kishore</td>\n",
              "      <td>S Ravi</td>\n",
              "      <td>NaN</td>\n",
              "    </tr>\n",
              "    <tr>\n",
              "      <th>2</th>\n",
              "      <td>3</td>\n",
              "      <td>2017</td>\n",
              "      <td>Rajkot</td>\n",
              "      <td>2017-04-07</td>\n",
              "      <td>Gujarat Lions</td>\n",
              "      <td>Kolkata Knight Riders</td>\n",
              "      <td>Kolkata Knight Riders</td>\n",
              "      <td>field</td>\n",
              "      <td>normal</td>\n",
              "      <td>0</td>\n",
              "      <td>Kolkata Knight Riders</td>\n",
              "      <td>0</td>\n",
              "      <td>10</td>\n",
              "      <td>CA Lynn</td>\n",
              "      <td>Saurashtra Cricket Association Stadium</td>\n",
              "      <td>Nitin Menon</td>\n",
              "      <td>CK Nandan</td>\n",
              "      <td>NaN</td>\n",
              "    </tr>\n",
              "    <tr>\n",
              "      <th>3</th>\n",
              "      <td>4</td>\n",
              "      <td>2017</td>\n",
              "      <td>Indore</td>\n",
              "      <td>2017-04-08</td>\n",
              "      <td>Rising Pune Supergiant</td>\n",
              "      <td>Kings XI Punjab</td>\n",
              "      <td>Kings XI Punjab</td>\n",
              "      <td>field</td>\n",
              "      <td>normal</td>\n",
              "      <td>0</td>\n",
              "      <td>Kings XI Punjab</td>\n",
              "      <td>0</td>\n",
              "      <td>6</td>\n",
              "      <td>GJ Maxwell</td>\n",
              "      <td>Holkar Cricket Stadium</td>\n",
              "      <td>AK Chaudhary</td>\n",
              "      <td>C Shamshuddin</td>\n",
              "      <td>NaN</td>\n",
              "    </tr>\n",
              "    <tr>\n",
              "      <th>4</th>\n",
              "      <td>5</td>\n",
              "      <td>2017</td>\n",
              "      <td>Bangalore</td>\n",
              "      <td>2017-04-08</td>\n",
              "      <td>Royal Challengers Bangalore</td>\n",
              "      <td>Delhi Daredevils</td>\n",
              "      <td>Royal Challengers Bangalore</td>\n",
              "      <td>bat</td>\n",
              "      <td>normal</td>\n",
              "      <td>0</td>\n",
              "      <td>Royal Challengers Bangalore</td>\n",
              "      <td>15</td>\n",
              "      <td>0</td>\n",
              "      <td>KM Jadhav</td>\n",
              "      <td>M Chinnaswamy Stadium</td>\n",
              "      <td>NaN</td>\n",
              "      <td>NaN</td>\n",
              "      <td>NaN</td>\n",
              "    </tr>\n",
              "  </tbody>\n",
              "</table>\n",
              "</div>"
            ],
            "text/plain": [
              "   id  season       city        date                        team1  \\\n",
              "0   1    2017  Hyderabad  2017-04-05          Sunrisers Hyderabad   \n",
              "1   2    2017       Pune  2017-04-06               Mumbai Indians   \n",
              "2   3    2017     Rajkot  2017-04-07                Gujarat Lions   \n",
              "3   4    2017     Indore  2017-04-08       Rising Pune Supergiant   \n",
              "4   5    2017  Bangalore  2017-04-08  Royal Challengers Bangalore   \n",
              "\n",
              "                         team2                  toss_winner toss_decision  \\\n",
              "0  Royal Challengers Bangalore  Royal Challengers Bangalore         field   \n",
              "1       Rising Pune Supergiant       Rising Pune Supergiant         field   \n",
              "2        Kolkata Knight Riders        Kolkata Knight Riders         field   \n",
              "3              Kings XI Punjab              Kings XI Punjab         field   \n",
              "4             Delhi Daredevils  Royal Challengers Bangalore           bat   \n",
              "\n",
              "   result  dl_applied                       winner  win_by_runs  \\\n",
              "0  normal           0          Sunrisers Hyderabad           35   \n",
              "1  normal           0       Rising Pune Supergiant            0   \n",
              "2  normal           0        Kolkata Knight Riders            0   \n",
              "3  normal           0              Kings XI Punjab            0   \n",
              "4  normal           0  Royal Challengers Bangalore           15   \n",
              "\n",
              "   win_by_wickets player_of_match                                      venue  \\\n",
              "0               0    Yuvraj Singh  Rajiv Gandhi International Stadium, Uppal   \n",
              "1               7       SPD Smith    Maharashtra Cricket Association Stadium   \n",
              "2              10         CA Lynn     Saurashtra Cricket Association Stadium   \n",
              "3               6      GJ Maxwell                     Holkar Cricket Stadium   \n",
              "4               0       KM Jadhav                      M Chinnaswamy Stadium   \n",
              "\n",
              "          umpire1        umpire2 umpire3  \n",
              "0     AY Dandekar       NJ Llong     NaN  \n",
              "1  A Nand Kishore         S Ravi     NaN  \n",
              "2     Nitin Menon      CK Nandan     NaN  \n",
              "3    AK Chaudhary  C Shamshuddin     NaN  \n",
              "4             NaN            NaN     NaN  "
            ]
          },
          "execution_count": 9,
          "metadata": {},
          "output_type": "execute_result"
        }
      ]
    },
    {
      "cell_type": "code",
      "metadata": {
        "id": "adbb999d",
        "outputId": "33166443-d8d3-4eda-b1a1-afa43e5bda8a"
      },
      "source": [
        "df.shape"
      ],
      "id": "adbb999d",
      "execution_count": null,
      "outputs": [
        {
          "data": {
            "text/plain": [
              "(756, 18)"
            ]
          },
          "execution_count": 10,
          "metadata": {},
          "output_type": "execute_result"
        }
      ]
    },
    {
      "cell_type": "code",
      "metadata": {
        "id": "045eb22d",
        "outputId": "fddb8731-0160-4dff-f93a-e0c8a9629bae"
      },
      "source": [
        "t1 = df['team1'].value_counts(dropna=False)\n",
        "t2 = df['team2'].value_counts(dropna=False)\n",
        "print(t1)\n",
        "print(t2)\n",
        "\n",
        "df[\"team1\"]=df[\"team1\"].replace(\"Rising Pune Supergiant\",\"Rising Pune Supergiants\")\n",
        "df[\"team2\"]=df[\"team2\"].replace(\"Rising Pune Supergiant\",\"Rising Pune Supergiants\")\n"
      ],
      "id": "045eb22d",
      "execution_count": null,
      "outputs": [
        {
          "name": "stdout",
          "output_type": "stream",
          "text": [
            "Mumbai Indians                 101\n",
            "Kings XI Punjab                 91\n",
            "Chennai Super Kings             89\n",
            "Royal Challengers Bangalore     85\n",
            "Kolkata Knight Riders           83\n",
            "Delhi Daredevils                72\n",
            "Rajasthan Royals                67\n",
            "Sunrisers Hyderabad             63\n",
            "Deccan Chargers                 43\n",
            "Pune Warriors                   20\n",
            "Gujarat Lions                   14\n",
            "Rising Pune Supergiant           8\n",
            "Rising Pune Supergiants          7\n",
            "Kochi Tuskers Kerala             7\n",
            "Delhi Capitals                   6\n",
            "Name: team1, dtype: int64\n",
            "Kolkata Knight Riders          95\n",
            "Royal Challengers Bangalore    95\n",
            "Delhi Daredevils               89\n",
            "Mumbai Indians                 86\n",
            "Kings XI Punjab                85\n",
            "Rajasthan Royals               80\n",
            "Chennai Super Kings            75\n",
            "Sunrisers Hyderabad            45\n",
            "Deccan Chargers                32\n",
            "Pune Warriors                  26\n",
            "Gujarat Lions                  16\n",
            "Delhi Capitals                 10\n",
            "Rising Pune Supergiant          8\n",
            "Rising Pune Supergiants         7\n",
            "Kochi Tuskers Kerala            7\n",
            "Name: team2, dtype: int64\n"
          ]
        }
      ]
    },
    {
      "cell_type": "code",
      "metadata": {
        "id": "7eb0d5e1",
        "outputId": "50062e5b-1ac7-4ed9-c04a-fc39d5d554ee"
      },
      "source": [
        "df['player_of_match'].value_counts()"
      ],
      "id": "7eb0d5e1",
      "execution_count": null,
      "outputs": [
        {
          "data": {
            "text/plain": [
              "CH Gayle          21\n",
              "AB de Villiers    20\n",
              "RG Sharma         17\n",
              "DA Warner         17\n",
              "MS Dhoni          17\n",
              "                  ..\n",
              "K Paul             1\n",
              "Umar Gul           1\n",
              "RA Tripathi        1\n",
              "DJG Sammy          1\n",
              "A Zampa            1\n",
              "Name: player_of_match, Length: 226, dtype: int64"
            ]
          },
          "execution_count": 15,
          "metadata": {},
          "output_type": "execute_result"
        }
      ]
    },
    {
      "cell_type": "code",
      "metadata": {
        "id": "2e6048ce",
        "outputId": "d3f65330-2d41-4d1e-fa58-42e3260d8ab0"
      },
      "source": [
        "df['toss_winner'].value_counts()"
      ],
      "id": "2e6048ce",
      "execution_count": null,
      "outputs": [
        {
          "data": {
            "text/plain": [
              "Mumbai Indians                 98\n",
              "Kolkata Knight Riders          92\n",
              "Chennai Super Kings            89\n",
              "Royal Challengers Bangalore    81\n",
              "Kings XI Punjab                81\n",
              "Delhi Daredevils               80\n",
              "Rajasthan Royals               80\n",
              "Sunrisers Hyderabad            46\n",
              "Deccan Chargers                43\n",
              "Pune Warriors                  20\n",
              "Gujarat Lions                  15\n",
              "Delhi Capitals                 10\n",
              "Kochi Tuskers Kerala            8\n",
              "Rising Pune Supergiants         7\n",
              "Rising Pune Supergiant          6\n",
              "Name: toss_winner, dtype: int64"
            ]
          },
          "execution_count": 14,
          "metadata": {},
          "output_type": "execute_result"
        }
      ]
    },
    {
      "cell_type": "code",
      "metadata": {
        "id": "39828946",
        "outputId": "2ca22e46-1e30-4e44-b4fa-96c267fcf399"
      },
      "source": [
        "df['result'].value_counts()"
      ],
      "id": "39828946",
      "execution_count": null,
      "outputs": [
        {
          "data": {
            "text/plain": [
              "normal       743\n",
              "tie            9\n",
              "no result      4\n",
              "Name: result, dtype: int64"
            ]
          },
          "execution_count": 13,
          "metadata": {},
          "output_type": "execute_result"
        }
      ]
    },
    {
      "cell_type": "code",
      "metadata": {
        "id": "73e8ac28",
        "outputId": "7177909d-fb26-4554-ea23-4527e529934b"
      },
      "source": [
        "df['city'].value_counts()"
      ],
      "id": "73e8ac28",
      "execution_count": null,
      "outputs": [
        {
          "data": {
            "text/plain": [
              "Mumbai            101\n",
              "Kolkata            77\n",
              "Delhi              74\n",
              "Bangalore          66\n",
              "Hyderabad          64\n",
              "Chennai            57\n",
              "Jaipur             47\n",
              "Chandigarh         46\n",
              "Pune               38\n",
              "Durban             15\n",
              "Bengaluru          14\n",
              "Visakhapatnam      13\n",
              "Centurion          12\n",
              "Ahmedabad          12\n",
              "Mohali             10\n",
              "Rajkot             10\n",
              "Indore              9\n",
              "Dharamsala          9\n",
              "Johannesburg        8\n",
              "Cuttack             7\n",
              "Abu Dhabi           7\n",
              "Ranchi              7\n",
              "Port Elizabeth      7\n",
              "Cape Town           7\n",
              "Raipur              6\n",
              "Sharjah             6\n",
              "Kochi               5\n",
              "Kanpur              4\n",
              "East London         3\n",
              "Kimberley           3\n",
              "Nagpur              3\n",
              "Bloemfontein        2\n",
              "Name: city, dtype: int64"
            ]
          },
          "execution_count": 12,
          "metadata": {},
          "output_type": "execute_result"
        }
      ]
    },
    {
      "cell_type": "code",
      "metadata": {
        "id": "63d8fcaf",
        "outputId": "3a7c9882-1ed1-4ccd-b648-b06e8ccf7b22"
      },
      "source": [
        "df['season'].unique()\n",
        "\n",
        "df.groupby(['season', 'city']).groups\n"
      ],
      "id": "63d8fcaf",
      "execution_count": null,
      "outputs": [
        {
          "data": {
            "text/plain": [
              "{(2008, 'Bangalore'): [59, 69, 73, 83, 89, 103, 110], (2008, 'Chandigarh'): [60, 68, 72, 80, 93, 96, 107], (2008, 'Chennai'): [66, 70, 78, 84, 90, 106, 109], (2008, 'Delhi'): [61, 75, 86, 97, 99, 108], (2008, 'Hyderabad'): [65, 67, 76, 79, 91, 101, 113], (2008, 'Jaipur'): [64, 77, 82, 88, 92, 100, 112], (2008, 'Kolkata'): [63, 74, 87, 94, 102, 104, 111], (2008, 'Mumbai'): [62, 71, 81, 85, 95, 98, 105, 114, 115, 116], (2009, 'Bloemfontein'): [160, 164], (2009, 'Cape Town'): [117, 118, 119, 120, 123, 125, 129], (2009, 'Centurion'): [132, 135, 136, 146, 147, 148, 155, 156, 165, 169, 170, 171], (2009, 'Durban'): [122, 124, 126, 127, 130, 133, 134, 138, 144, 145, 157, 158, 159, 167, 168], (2009, 'East London'): [137, 143, 149], (2009, 'Johannesburg'): [140, 142, 153, 162, 163, 166, 172, 173], (2009, 'Kimberley'): [150, 151, 154], (2009, 'Port Elizabeth'): [121, 128, 131, 139, 141, 152, 161], (2010, 'Ahmedabad'): [179, 186, 194, 197], (2010, 'Bangalore'): [180, 183, 191, 196, 213, 216, 225], (2010, 'Chandigarh'): [176, 192, 195, 204, 214], (2010, 'Chennai'): [178, 189, 201, 205, 210, 221, 223], (2010, 'Cuttack'): [185, 188], (2010, 'Delhi'): [182, 184, 199, 202, 208, 217, 228], (2010, 'Dharamsala'): [224, 227], (2010, 'Jaipur'): [211, 218, 222], (2010, 'Kolkata'): [177, 181, 203, 207, 212, 226, 229], (2010, 'Mumbai'): [174, 175, 187, 190, 193, 198, 200, 206, 220, 230, 231, 232, 233], (2010, 'Nagpur'): [209, 215, 219], (2011, 'Bangalore'): [241, 267, 279, 282, 290, 301], (2011, 'Chandigarh'): [242, 255, 283, 286], (2011, 'Chennai'): [234, 247, 261, 271, 275, 288, 296, 305, 306], (2011, 'Delhi'): [237, 252, 258, 262, 265, 273, 300], (2011, 'Dharamsala'): [292, 295, 299], (2011, 'Hyderabad'): [235, 244, 248, 259, 274, 278, 285], (2011, 'Indore'): [289, 293], (2011, 'Jaipur'): [240, 245, 260, 266, 270, 284, 287], (2011, 'Kochi'): [236, 251, 264, 268, 277], (2011, 'Kolkata'): [239, 250, 254, 257, 269, 280, 302], (2011, 'Mumbai'): [238, 243, 246, 249, 253, 256, 263, 272, 276, 281, 291, 294, 297, 298, 303, 304], (2012, 'Bangalore'): [311, 316, 325, 328, 349, 355, 366, 378], (2012, 'Chandigarh'): [320, 329, 332, 339, 353, 365], (2012, 'Chennai'): [307, 319, 331, 333, 342, 346, 351, 363, 379, 380], (2012, 'Cuttack'): [336, 347], (2012, 'Delhi'): [317, 322, 334, 341, 344, 356, 368, 371], (2012, 'Dharamsala'): [370, 373], (2012, 'Hyderabad'): [330, 358, 372, 375], (2012, 'Jaipur'): [310, 313, 327, 337, 348, 360, 364, 376], (2012, 'Kolkata'): [308, 321, 324, 343, 352, 362, 367], (2012, 'Mumbai'): [309, 318, 326, 335, 345, 354, 359, 369], (2012, 'Pune'): [314, 323, 338, 340, 350, 357, 361, 374, 377], (2012, 'Visakhapatnam'): [312, 315], (2013, 'Bangalore'): [382, 391, 400, 406, 410, 428, 431, 451], (2013, 'Chandigarh'): [390, 399, 408, 435, 439, 447], (2013, 'Chennai'): [385, 395, 398, 409, 413, 417, 424, 445], (2013, 'Delhi'): [384, 393, 403, 407, 437, 442, 453, 454], (2013, 'Dharamsala'): [411, 449], (2013, 'Hyderabad'): [383, 387, 404, 422, 427, 434, 448, 452], (2013, 'Jaipur'): [388, 397, 402, 415, 419, 430, 432, 441], (2013, 'Kolkata'): [381, 396, 405, 412, 414, 426, 455, 456], (2013, 'Mumbai'): [389, 394, 416, 420, 429, 433, 443, 446], (2013, 'Pune'): [386, 392, 401, 421, 425, 436, 438, 450], (2013, 'Raipur'): [418, 423], (2013, 'Ranchi'): [440, 444], (2014, 'Abu Dhabi'): [457, 459, 460, 464, 470, 471, 475], (2014, 'Ahmedabad'): [481, 486, 497, 500], (2014, 'Bangalore'): [480, 487, 491, 494, 509, 516], (2014, 'Chandigarh'): [504, 508, 511], (2014, 'Cuttack'): [485, 490, 496], (2014, 'Delhi'): [479, 482, 484, 488, 501], (2014, 'Hyderabad'): [492, 495, 499, 502], (2014, 'Kolkata'): [503, 505, 510, 513], (2014, 'Mumbai'): [478, 483, 489, 507, 512, 514, 515], (2014, 'Ranchi'): [477, 493, 498, 506], (2014, 'Sharjah'): [458, 463, 465, 467, 472, 473], (2014, nan): [461, 462, 466, 468, 469, 474, 476], (2015, 'Ahmedabad'): [525, 532, 535, 539], (2015, 'Bangalore'): [524, 533, 537, 545, 549, 556, 570], (2015, 'Chandigarh'): [543, 551, 565, 568], (2015, 'Chennai'): [518, 520, 541, 546, 553, 558, 562], (2015, 'Delhi'): [522, 534, 538, 542, 547], (2015, 'Hyderabad'): [550, 563, 567, 571], (2015, 'Kolkata'): [517, 521, 526, 544, 554, 559, 575], (2015, 'Mumbai'): [523, 529, 540, 548, 552, 555, 557, 561, 566, 569, 572], (2015, 'Pune'): [519, 527, 531, 573], (2015, 'Raipur'): [560, 564], (2015, 'Ranchi'): [574], (2015, 'Visakhapatnam'): [528, 530, 536], (2016, 'Bangalore'): [579, 586, 605, 610, 616, 619, 625, 632, 635], (2016, 'Chandigarh'): [578, 585, 588, 596, 611, 614, 621], (2016, 'Delhi'): [582, 592, 598, 601, 608, 633, 634], (2016, 'Hyderabad'): [583, 587, 593, 597, 602, 609, 617], (2016, 'Kanpur'): [626, 629], (2016, 'Kolkata'): [577, 580, 607, 613, 620, 623, 630], (2016, 'Mumbai'): [576, 584, 589, 599], (2016, 'Pune'): [591, 595, 600, 604], (2016, 'Raipur'): [627, 631], (2016, 'Rajkot'): [581, 590, 594, 603, 606], (2016, 'Visakhapatnam'): [612, 615, 618, 622, 624, 628], (2017, 'Bangalore'): [4, 11, 16, 29, 41, 44, 56, 57], (2017, 'Chandigarh'): [31, 34, 45, 47], (2017, 'Delhi'): [14, 17, 38, 40, 43, 50, 54], ...}"
            ]
          },
          "execution_count": 18,
          "metadata": {},
          "output_type": "execute_result"
        }
      ]
    },
    {
      "cell_type": "code",
      "metadata": {
        "id": "dec490ca",
        "outputId": "e87ba4bd-815b-479f-da3d-cf19be08fd25"
      },
      "source": [
        "top_players=df['player_of_match'].value_counts()[0:10]\n",
        "top_players\n"
      ],
      "id": "dec490ca",
      "execution_count": null,
      "outputs": [
        {
          "data": {
            "text/plain": [
              "CH Gayle          21\n",
              "AB de Villiers    20\n",
              "RG Sharma         17\n",
              "DA Warner         17\n",
              "MS Dhoni          17\n",
              "YK Pathan         16\n",
              "SR Watson         15\n",
              "SK Raina          14\n",
              "G Gambhir         13\n",
              "AM Rahane         12\n",
              "Name: player_of_match, dtype: int64"
            ]
          },
          "execution_count": 22,
          "metadata": {},
          "output_type": "execute_result"
        }
      ]
    },
    {
      "cell_type": "code",
      "metadata": {
        "id": "8f226716",
        "outputId": "75052e45-2f6b-462f-a39c-c94b46c7d2a9"
      },
      "source": [
        "won_by_runs=df[df['win_by_runs']!=0]\n",
        "won_by_runs.head()"
      ],
      "id": "8f226716",
      "execution_count": null,
      "outputs": [
        {
          "data": {
            "text/html": [
              "<div>\n",
              "<style scoped>\n",
              "    .dataframe tbody tr th:only-of-type {\n",
              "        vertical-align: middle;\n",
              "    }\n",
              "\n",
              "    .dataframe tbody tr th {\n",
              "        vertical-align: top;\n",
              "    }\n",
              "\n",
              "    .dataframe thead th {\n",
              "        text-align: right;\n",
              "    }\n",
              "</style>\n",
              "<table border=\"1\" class=\"dataframe\">\n",
              "  <thead>\n",
              "    <tr style=\"text-align: right;\">\n",
              "      <th></th>\n",
              "      <th>id</th>\n",
              "      <th>season</th>\n",
              "      <th>city</th>\n",
              "      <th>date</th>\n",
              "      <th>team1</th>\n",
              "      <th>team2</th>\n",
              "      <th>toss_winner</th>\n",
              "      <th>toss_decision</th>\n",
              "      <th>result</th>\n",
              "      <th>dl_applied</th>\n",
              "      <th>winner</th>\n",
              "      <th>win_by_runs</th>\n",
              "      <th>win_by_wickets</th>\n",
              "      <th>player_of_match</th>\n",
              "      <th>venue</th>\n",
              "      <th>umpire1</th>\n",
              "      <th>umpire2</th>\n",
              "      <th>umpire3</th>\n",
              "    </tr>\n",
              "  </thead>\n",
              "  <tbody>\n",
              "    <tr>\n",
              "      <th>0</th>\n",
              "      <td>1</td>\n",
              "      <td>2017</td>\n",
              "      <td>Hyderabad</td>\n",
              "      <td>2017-04-05</td>\n",
              "      <td>Sunrisers Hyderabad</td>\n",
              "      <td>Royal Challengers Bangalore</td>\n",
              "      <td>Royal Challengers Bangalore</td>\n",
              "      <td>field</td>\n",
              "      <td>normal</td>\n",
              "      <td>0</td>\n",
              "      <td>Sunrisers Hyderabad</td>\n",
              "      <td>35</td>\n",
              "      <td>0</td>\n",
              "      <td>Yuvraj Singh</td>\n",
              "      <td>Rajiv Gandhi International Stadium, Uppal</td>\n",
              "      <td>AY Dandekar</td>\n",
              "      <td>NJ Llong</td>\n",
              "      <td>NaN</td>\n",
              "    </tr>\n",
              "    <tr>\n",
              "      <th>4</th>\n",
              "      <td>5</td>\n",
              "      <td>2017</td>\n",
              "      <td>Bangalore</td>\n",
              "      <td>2017-04-08</td>\n",
              "      <td>Royal Challengers Bangalore</td>\n",
              "      <td>Delhi Daredevils</td>\n",
              "      <td>Royal Challengers Bangalore</td>\n",
              "      <td>bat</td>\n",
              "      <td>normal</td>\n",
              "      <td>0</td>\n",
              "      <td>Royal Challengers Bangalore</td>\n",
              "      <td>15</td>\n",
              "      <td>0</td>\n",
              "      <td>KM Jadhav</td>\n",
              "      <td>M Chinnaswamy Stadium</td>\n",
              "      <td>NaN</td>\n",
              "      <td>NaN</td>\n",
              "      <td>NaN</td>\n",
              "    </tr>\n",
              "    <tr>\n",
              "      <th>8</th>\n",
              "      <td>9</td>\n",
              "      <td>2017</td>\n",
              "      <td>Pune</td>\n",
              "      <td>2017-04-11</td>\n",
              "      <td>Delhi Daredevils</td>\n",
              "      <td>Rising Pune Supergiants</td>\n",
              "      <td>Rising Pune Supergiant</td>\n",
              "      <td>field</td>\n",
              "      <td>normal</td>\n",
              "      <td>0</td>\n",
              "      <td>Delhi Daredevils</td>\n",
              "      <td>97</td>\n",
              "      <td>0</td>\n",
              "      <td>SV Samson</td>\n",
              "      <td>Maharashtra Cricket Association Stadium</td>\n",
              "      <td>AY Dandekar</td>\n",
              "      <td>S Ravi</td>\n",
              "      <td>NaN</td>\n",
              "    </tr>\n",
              "    <tr>\n",
              "      <th>13</th>\n",
              "      <td>14</td>\n",
              "      <td>2017</td>\n",
              "      <td>Kolkata</td>\n",
              "      <td>2017-04-15</td>\n",
              "      <td>Kolkata Knight Riders</td>\n",
              "      <td>Sunrisers Hyderabad</td>\n",
              "      <td>Sunrisers Hyderabad</td>\n",
              "      <td>field</td>\n",
              "      <td>normal</td>\n",
              "      <td>0</td>\n",
              "      <td>Kolkata Knight Riders</td>\n",
              "      <td>17</td>\n",
              "      <td>0</td>\n",
              "      <td>RV Uthappa</td>\n",
              "      <td>Eden Gardens</td>\n",
              "      <td>AY Dandekar</td>\n",
              "      <td>NJ Llong</td>\n",
              "      <td>NaN</td>\n",
              "    </tr>\n",
              "    <tr>\n",
              "      <th>14</th>\n",
              "      <td>15</td>\n",
              "      <td>2017</td>\n",
              "      <td>Delhi</td>\n",
              "      <td>2017-04-15</td>\n",
              "      <td>Delhi Daredevils</td>\n",
              "      <td>Kings XI Punjab</td>\n",
              "      <td>Delhi Daredevils</td>\n",
              "      <td>bat</td>\n",
              "      <td>normal</td>\n",
              "      <td>0</td>\n",
              "      <td>Delhi Daredevils</td>\n",
              "      <td>51</td>\n",
              "      <td>0</td>\n",
              "      <td>CJ Anderson</td>\n",
              "      <td>Feroz Shah Kotla</td>\n",
              "      <td>YC Barde</td>\n",
              "      <td>Nitin Menon</td>\n",
              "      <td>NaN</td>\n",
              "    </tr>\n",
              "  </tbody>\n",
              "</table>\n",
              "</div>"
            ],
            "text/plain": [
              "    id  season       city        date                        team1  \\\n",
              "0    1    2017  Hyderabad  2017-04-05          Sunrisers Hyderabad   \n",
              "4    5    2017  Bangalore  2017-04-08  Royal Challengers Bangalore   \n",
              "8    9    2017       Pune  2017-04-11             Delhi Daredevils   \n",
              "13  14    2017    Kolkata  2017-04-15        Kolkata Knight Riders   \n",
              "14  15    2017      Delhi  2017-04-15             Delhi Daredevils   \n",
              "\n",
              "                          team2                  toss_winner toss_decision  \\\n",
              "0   Royal Challengers Bangalore  Royal Challengers Bangalore         field   \n",
              "4              Delhi Daredevils  Royal Challengers Bangalore           bat   \n",
              "8       Rising Pune Supergiants       Rising Pune Supergiant         field   \n",
              "13          Sunrisers Hyderabad          Sunrisers Hyderabad         field   \n",
              "14              Kings XI Punjab             Delhi Daredevils           bat   \n",
              "\n",
              "    result  dl_applied                       winner  win_by_runs  \\\n",
              "0   normal           0          Sunrisers Hyderabad           35   \n",
              "4   normal           0  Royal Challengers Bangalore           15   \n",
              "8   normal           0             Delhi Daredevils           97   \n",
              "13  normal           0        Kolkata Knight Riders           17   \n",
              "14  normal           0             Delhi Daredevils           51   \n",
              "\n",
              "    win_by_wickets player_of_match                                      venue  \\\n",
              "0                0    Yuvraj Singh  Rajiv Gandhi International Stadium, Uppal   \n",
              "4                0       KM Jadhav                      M Chinnaswamy Stadium   \n",
              "8                0       SV Samson    Maharashtra Cricket Association Stadium   \n",
              "13               0      RV Uthappa                               Eden Gardens   \n",
              "14               0     CJ Anderson                           Feroz Shah Kotla   \n",
              "\n",
              "        umpire1      umpire2 umpire3  \n",
              "0   AY Dandekar     NJ Llong     NaN  \n",
              "4           NaN          NaN     NaN  \n",
              "8   AY Dandekar       S Ravi     NaN  \n",
              "13  AY Dandekar     NJ Llong     NaN  \n",
              "14     YC Barde  Nitin Menon     NaN  "
            ]
          },
          "execution_count": 24,
          "metadata": {},
          "output_type": "execute_result"
        }
      ]
    },
    {
      "cell_type": "code",
      "metadata": {
        "id": "f978dbb3",
        "outputId": "fc4b24c0-e60e-4ef6-9387-5038a37076b5"
      },
      "source": [
        "probability_of_win = df['toss_winner'] == df['winner']\n",
        "\n",
        "probability_of_win.groupby(probability_of_win).size()\n",
        "sns.countplot(probability_of_win)"
      ],
      "id": "f978dbb3",
      "execution_count": null,
      "outputs": [
        {
          "name": "stderr",
          "output_type": "stream",
          "text": [
            "C:\\Users\\nkhlp\\AppData\\Local\\Programs\\Python\\Python39\\lib\\site-packages\\seaborn\\_decorators.py:36: FutureWarning: Pass the following variable as a keyword arg: x. From version 0.12, the only valid positional argument will be `data`, and passing other arguments without an explicit keyword will result in an error or misinterpretation.\n",
            "  warnings.warn(\n"
          ]
        },
        {
          "data": {
            "text/plain": [
              "<AxesSubplot:ylabel='count'>"
            ]
          },
          "execution_count": 25,
          "metadata": {},
          "output_type": "execute_result"
        },
        {
          "data": {
            "image/png": "[encoded data removed]",
            "text/plain": [
              "<Figure size 432x288 with 1 Axes>"
            ]
          },
          "metadata": {
            "needs_background": "light"
          },
          "output_type": "display_data"
        }
      ]
    },
    {
      "cell_type": "code",
      "metadata": {
        "id": "3ac4dae4",
        "outputId": "1a76d351-dcd0-473b-a2bd-392b567af622"
      },
      "source": [
        "df.iloc[df['win_by_runs'].idxmax()]"
      ],
      "id": "3ac4dae4",
      "execution_count": null,
      "outputs": [
        {
          "data": {
            "text/plain": [
              "id                               44\n",
              "season                         2017\n",
              "city                          Delhi\n",
              "date                     2017-05-06\n",
              "team1                Mumbai Indians\n",
              "team2              Delhi Daredevils\n",
              "toss_winner        Delhi Daredevils\n",
              "toss_decision                 field\n",
              "result                       normal\n",
              "dl_applied                        0\n",
              "winner               Mumbai Indians\n",
              "win_by_runs                     146\n",
              "win_by_wickets                    0\n",
              "player_of_match         LMP Simmons\n",
              "venue              Feroz Shah Kotla\n",
              "umpire1                 Nitin Menon\n",
              "umpire2                   CK Nandan\n",
              "umpire3                         NaN\n",
              "Name: 43, dtype: object"
            ]
          },
          "execution_count": 27,
          "metadata": {},
          "output_type": "execute_result"
        }
      ]
    },
    {
      "cell_type": "code",
      "metadata": {
        "id": "d74d6cfe",
        "outputId": "bbeb450a-3dde-44dd-ad5e-6448bbfac3e0"
      },
      "source": [
        "df.iloc[df['win_by_wickets'].idxmax()]"
      ],
      "id": "d74d6cfe",
      "execution_count": null,
      "outputs": [
        {
          "data": {
            "text/plain": [
              "id                                                      3\n",
              "season                                               2017\n",
              "city                                               Rajkot\n",
              "date                                           2017-04-07\n",
              "team1                                       Gujarat Lions\n",
              "team2                               Kolkata Knight Riders\n",
              "toss_winner                         Kolkata Knight Riders\n",
              "toss_decision                                       field\n",
              "result                                             normal\n",
              "dl_applied                                              0\n",
              "winner                              Kolkata Knight Riders\n",
              "win_by_runs                                             0\n",
              "win_by_wickets                                         10\n",
              "player_of_match                                   CA Lynn\n",
              "venue              Saurashtra Cricket Association Stadium\n",
              "umpire1                                       Nitin Menon\n",
              "umpire2                                         CK Nandan\n",
              "umpire3                                               NaN\n",
              "Name: 2, dtype: object"
            ]
          },
          "execution_count": 28,
          "metadata": {},
          "output_type": "execute_result"
        }
      ]
    },
    {
      "cell_type": "code",
      "metadata": {
        "id": "92b603e3",
        "outputId": "1b3d91e5-6484-4efc-f53e-804231adc7e4"
      },
      "source": [
        "\n",
        "df.iloc[df['win_by_wickets'].idxmin()]"
      ],
      "id": "92b603e3",
      "execution_count": null,
      "outputs": [
        {
          "data": {
            "text/plain": [
              "id                                                         1\n",
              "season                                                  2017\n",
              "city                                               Hyderabad\n",
              "date                                              2017-04-05\n",
              "team1                                    Sunrisers Hyderabad\n",
              "team2                            Royal Challengers Bangalore\n",
              "toss_winner                      Royal Challengers Bangalore\n",
              "toss_decision                                          field\n",
              "result                                                normal\n",
              "dl_applied                                                 0\n",
              "winner                                   Sunrisers Hyderabad\n",
              "win_by_runs                                               35\n",
              "win_by_wickets                                             0\n",
              "player_of_match                                 Yuvraj Singh\n",
              "venue              Rajiv Gandhi International Stadium, Uppal\n",
              "umpire1                                          AY Dandekar\n",
              "umpire2                                             NJ Llong\n",
              "umpire3                                                  NaN\n",
              "Name: 0, dtype: object"
            ]
          },
          "execution_count": 29,
          "metadata": {},
          "output_type": "execute_result"
        }
      ]
    },
    {
      "cell_type": "code",
      "metadata": {
        "id": "6b87a788",
        "outputId": "014dea9b-2409-46ff-9626-04febb5ef6cb"
      },
      "source": [
        "data1 = df.winner.value_counts()\n",
        "sns.barplot(y = data1.index, x = data1)"
      ],
      "id": "6b87a788",
      "execution_count": null,
      "outputs": [
        {
          "data": {
            "text/plain": [
              "<AxesSubplot:xlabel='winner'>"
            ]
          },
          "execution_count": 30,
          "metadata": {},
          "output_type": "execute_result"
        },
        {
          "data": {
            "image/png": "[encoded data removed]",
            "text/plain": [
              "<Figure size 432x288 with 1 Axes>"
            ]
          },
          "metadata": {
            "needs_background": "light"
          },
          "output_type": "display_data"
        }
      ]
    },
    {
      "cell_type": "code",
      "metadata": {
        "id": "fe99c118",
        "outputId": "3230b7d2-a7ba-4b5e-efe5-b65205fbf38d"
      },
      "source": [
        "df.groupby('season')['winner'].value_counts()"
      ],
      "id": "fe99c118",
      "execution_count": null,
      "outputs": [
        {
          "data": {
            "text/plain": [
              "season  winner                     \n",
              "2008    Rajasthan Royals               13\n",
              "        Kings XI Punjab                10\n",
              "        Chennai Super Kings             9\n",
              "        Delhi Daredevils                7\n",
              "        Mumbai Indians                  7\n",
              "                                       ..\n",
              "2019    Kings XI Punjab                 6\n",
              "        Kolkata Knight Riders           6\n",
              "        Sunrisers Hyderabad             6\n",
              "        Rajasthan Royals                5\n",
              "        Royal Challengers Bangalore     5\n",
              "Name: winner, Length: 100, dtype: int64"
            ]
          },
          "execution_count": 32,
          "metadata": {},
          "output_type": "execute_result"
        }
      ]
    },
    {
      "cell_type": "code",
      "metadata": {
        "id": "ee69305f",
        "outputId": "9dc31428-9d32-464e-d3e7-71c3634b9c96"
      },
      "source": [
        "\n",
        "\n",
        "fd=pd.read_csv('C:/Desktop/pandas/iplanalysis/deliveries.csv')\n",
        "r=fd.groupby(['batsman'])['batsman_runs'].sum().reset_index()\n",
        "r.columns=['Batsman','runs']\n",
        "bestbat=runs.sort_values(by='Runs',ascending=False).reset_index().drop('index',axis=1)\n",
        "bestbat"
      ],
      "id": "ee69305f",
      "execution_count": null,
      "outputs": [
        {
          "data": {
            "text/html": [
              "<div>\n",
              "<style scoped>\n",
              "    .dataframe tbody tr th:only-of-type {\n",
              "        vertical-align: middle;\n",
              "    }\n",
              "\n",
              "    .dataframe tbody tr th {\n",
              "        vertical-align: top;\n",
              "    }\n",
              "\n",
              "    .dataframe thead th {\n",
              "        text-align: right;\n",
              "    }\n",
              "</style>\n",
              "<table border=\"1\" class=\"dataframe\">\n",
              "  <thead>\n",
              "    <tr style=\"text-align: right;\">\n",
              "      <th></th>\n",
              "      <th>Batsman</th>\n",
              "      <th>Runs</th>\n",
              "    </tr>\n",
              "  </thead>\n",
              "  <tbody>\n",
              "    <tr>\n",
              "      <th>0</th>\n",
              "      <td>V Kohli</td>\n",
              "      <td>5434</td>\n",
              "    </tr>\n",
              "    <tr>\n",
              "      <th>1</th>\n",
              "      <td>SK Raina</td>\n",
              "      <td>5415</td>\n",
              "    </tr>\n",
              "    <tr>\n",
              "      <th>2</th>\n",
              "      <td>RG Sharma</td>\n",
              "      <td>4914</td>\n",
              "    </tr>\n",
              "    <tr>\n",
              "      <th>3</th>\n",
              "      <td>DA Warner</td>\n",
              "      <td>4741</td>\n",
              "    </tr>\n",
              "    <tr>\n",
              "      <th>4</th>\n",
              "      <td>S Dhawan</td>\n",
              "      <td>4632</td>\n",
              "    </tr>\n",
              "    <tr>\n",
              "      <th>...</th>\n",
              "      <td>...</td>\n",
              "      <td>...</td>\n",
              "    </tr>\n",
              "    <tr>\n",
              "      <th>511</th>\n",
              "      <td>IC Pandey</td>\n",
              "      <td>0</td>\n",
              "    </tr>\n",
              "    <tr>\n",
              "      <th>512</th>\n",
              "      <td>J Denly</td>\n",
              "      <td>0</td>\n",
              "    </tr>\n",
              "    <tr>\n",
              "      <th>513</th>\n",
              "      <td>P Raj</td>\n",
              "      <td>0</td>\n",
              "    </tr>\n",
              "    <tr>\n",
              "      <th>514</th>\n",
              "      <td>Sunny Gupta</td>\n",
              "      <td>0</td>\n",
              "    </tr>\n",
              "    <tr>\n",
              "      <th>515</th>\n",
              "      <td>L Ablish</td>\n",
              "      <td>0</td>\n",
              "    </tr>\n",
              "  </tbody>\n",
              "</table>\n",
              "<p>516 rows × 2 columns</p>\n",
              "</div>"
            ],
            "text/plain": [
              "         Batsman  Runs\n",
              "0        V Kohli  5434\n",
              "1       SK Raina  5415\n",
              "2      RG Sharma  4914\n",
              "3      DA Warner  4741\n",
              "4       S Dhawan  4632\n",
              "..           ...   ...\n",
              "511    IC Pandey     0\n",
              "512      J Denly     0\n",
              "513        P Raj     0\n",
              "514  Sunny Gupta     0\n",
              "515     L Ablish     0\n",
              "\n",
              "[516 rows x 2 columns]"
            ]
          },
          "execution_count": 34,
          "metadata": {},
          "output_type": "execute_result"
        }
      ]
    },
    {
      "cell_type": "code",
      "metadata": {
        "id": "d5451192",
        "outputId": "42c02002-c093-443f-bd74-62cf158466b4"
      },
      "source": [
        "dismis=fd['dismissal_kind'].value_counts()\n",
        "label=['caught','bowled','run out','lbw','stumped','caught and bowled','retired hurt','hit wicket','obstructing field']\n",
        "\n",
        "plt.pie(dismis,autopct='%1.1f%%',labels=label)\n",
        "plt.title(\"Types Of Dismissals\")"
      ],
      "id": "d5451192",
      "execution_count": null,
      "outputs": [
        {
          "data": {
            "text/plain": [
              "Text(0.5, 1.0, 'Types Of Dismissals')"
            ]
          },
          "execution_count": 37,
          "metadata": {},
          "output_type": "execute_result"
        },
        {
          "data": {
            "image/png": "[encoded data removed]",
            "text/plain": [
              "<Figure size 432x288 with 1 Axes>"
            ]
          },
          "metadata": {},
          "output_type": "display_data"
        }
      ]
    },
    {
      "cell_type": "code",
      "metadata": {
        "id": "44190711",
        "outputId": "cfd763cd-2a1f-4b23-c243-771a8510247e"
      },
      "source": [
        "sd = fd[fd.dismissal_kind.notnull()].copy()\n",
        "sd = sd[sd.dismissal_kind != \"hit wicket\"]\n",
        "sd = sd[sd.dismissal_kind != \"obstructing the field\"]\n",
        "sd= sd[sd.dismissal_kind != \"run out\"]\n",
        "sd = sd[sd.dismissal_kind != \"retired hurt\"]\n",
        "bowlers = sd.bowler.unique()\n",
        "bowler_wicket_df = pd.DataFrame(columns = [\"name\",\"wickets\"])\n",
        "for player in bowlers:\n",
        "    tot = (sd.bowler == player).sum()\n",
        "    bowler_wicket_df = bowler_wicket_df.append({\"name\": player,\"wickets\":tot},ignore_index = True)\n",
        "highest_wicket = bowler_wicket_df.sort_values(\"wickets\",ascending = False).head(10)\n",
        "plt.figure(figsize=(14,6))\n",
        "plt.xticks(rotation=75)\n",
        "plt.title(\"Most Wickets Taken\")\n",
        "sns.barplot(x=highest_wicket.name, y=highest_wicket.wickets).set(xlabel =\"Bowler Name\",ylabel = \"Wickets Taken\");"
      ],
      "id": "44190711",
      "execution_count": null,
      "outputs": [
        {
          "data": {
            "image/png": "[encoded data removed]",
            "text/plain": [
              "<Figure size 1008x432 with 1 Axes>"
            ]
          },
          "metadata": {
            "needs_background": "light"
          },
          "output_type": "display_data"
        }
      ]
    },
    {
      "cell_type": "code",
      "metadata": {
        "id": "6fe95eeb",
        "outputId": "e1540389-259d-434e-fad5-72d13cbbb76a"
      },
      "source": [
        "d= pd.merge(fd,df[{'id','season'}],left_on = 'match_id',right_on='id')\n",
        "\n",
        "\n",
        "highest_bowl = pd.DataFrame(columns ={\"name\",\"Balls_bowled\"})\n",
        "season_list = list(range(2008,2020)) \n",
        "\n",
        "for year in season_list:\n",
        "    sd = fd[d.season == year].copy()\n",
        "    unique_bowlers = sd.bowler.unique()\n",
        "    bowlers_df = pd.DataFrame(columns = {\"name\",\"Balls_bowled\"})\n",
        "    for player in unique_bowlers:\n",
        "        tot = int((sd.bowler == player).sum())\n",
        "        bowlers_df=bowlers_df.append({\"name\":player+\" (\"+str(year)+\")\",\"Balls_bowled\":tot},ignore_index = True)\n",
        "    highest_bowl = highest_bowl.append(bowlers_df.sort_values(\"Balls_bowled\",ascending=False).head(1),ignore_index = True)\n",
        "highest_bowl"
      ],
      "id": "6fe95eeb",
      "execution_count": null,
      "outputs": [
        {
          "data": {
            "text/html": [
              "<div>\n",
              "<style scoped>\n",
              "    .dataframe tbody tr th:only-of-type {\n",
              "        vertical-align: middle;\n",
              "    }\n",
              "\n",
              "    .dataframe tbody tr th {\n",
              "        vertical-align: top;\n",
              "    }\n",
              "\n",
              "    .dataframe thead th {\n",
              "        text-align: right;\n",
              "    }\n",
              "</style>\n",
              "<table border=\"1\" class=\"dataframe\">\n",
              "  <thead>\n",
              "    <tr style=\"text-align: right;\">\n",
              "      <th></th>\n",
              "      <th>name</th>\n",
              "      <th>Balls_bowled</th>\n",
              "    </tr>\n",
              "  </thead>\n",
              "  <tbody>\n",
              "    <tr>\n",
              "      <th>0</th>\n",
              "      <td>MS Gony (2008)</td>\n",
              "      <td>371</td>\n",
              "    </tr>\n",
              "    <tr>\n",
              "      <th>1</th>\n",
              "      <td>RP Singh (2009)</td>\n",
              "      <td>382</td>\n",
              "    </tr>\n",
              "    <tr>\n",
              "      <th>2</th>\n",
              "      <td>A Kumble (2010)</td>\n",
              "      <td>389</td>\n",
              "    </tr>\n",
              "    <tr>\n",
              "      <th>3</th>\n",
              "      <td>SL Malinga (2011)</td>\n",
              "      <td>397</td>\n",
              "    </tr>\n",
              "    <tr>\n",
              "      <th>4</th>\n",
              "      <td>R Ashwin (2012)</td>\n",
              "      <td>402</td>\n",
              "    </tr>\n",
              "    <tr>\n",
              "      <th>5</th>\n",
              "      <td>Harbhajan Singh (2013)</td>\n",
              "      <td>430</td>\n",
              "    </tr>\n",
              "    <tr>\n",
              "      <th>6</th>\n",
              "      <td>AR Patel (2014)</td>\n",
              "      <td>403</td>\n",
              "    </tr>\n",
              "    <tr>\n",
              "      <th>7</th>\n",
              "      <td>A Nehra (2015)</td>\n",
              "      <td>385</td>\n",
              "    </tr>\n",
              "    <tr>\n",
              "      <th>8</th>\n",
              "      <td>B Kumar (2016)</td>\n",
              "      <td>414</td>\n",
              "    </tr>\n",
              "    <tr>\n",
              "      <th>9</th>\n",
              "      <td>JJ Bumrah (2017)</td>\n",
              "      <td>373</td>\n",
              "    </tr>\n",
              "    <tr>\n",
              "      <th>10</th>\n",
              "      <td>Rashid Khan (2018)</td>\n",
              "      <td>411</td>\n",
              "    </tr>\n",
              "    <tr>\n",
              "      <th>11</th>\n",
              "      <td>DL Chahar (2019)</td>\n",
              "      <td>403</td>\n",
              "    </tr>\n",
              "  </tbody>\n",
              "</table>\n",
              "</div>"
            ],
            "text/plain": [
              "                      name Balls_bowled\n",
              "0           MS Gony (2008)          371\n",
              "1          RP Singh (2009)          382\n",
              "2          A Kumble (2010)          389\n",
              "3        SL Malinga (2011)          397\n",
              "4          R Ashwin (2012)          402\n",
              "5   Harbhajan Singh (2013)          430\n",
              "6          AR Patel (2014)          403\n",
              "7           A Nehra (2015)          385\n",
              "8           B Kumar (2016)          414\n",
              "9         JJ Bumrah (2017)          373\n",
              "10      Rashid Khan (2018)          411\n",
              "11        DL Chahar (2019)          403"
            ]
          },
          "execution_count": 41,
          "metadata": {},
          "output_type": "execute_result"
        }
      ]
    },
    {
      "cell_type": "code",
      "metadata": {
        "id": "4ba5fc7a",
        "outputId": "2450978e-a966-4df0-ab02-8d089aa416ad"
      },
      "source": [
        "from collections import Counter\n",
        "temp= []\n",
        "teamdf = pd.DataFrame(columns = {\"Matches_Won\",\"Team_Name\"})\n",
        "ipl_matches_df = df.copy()\n",
        "teams = ipl_matches_df.team1.unique()\n",
        "for year in season_list:\n",
        "    temp.append(list(ipl_matches_df[ipl_matches_df.season == year].tail(1).winner)[0])\n",
        "freqofwinner= dict(Counter(temp))\n",
        "for team in teams:\n",
        "    teamdf = teamdf.append({\"Matches_Won\":freqofwinner.get(team,0),\"Team_Name\":team },ignore_index =True)\n",
        "teamdf.sort_values(\"Matches_Won\",ascending =False,inplace = True)\n",
        "teamdf = teamdf.reset_index()[[\"Team_Name\",\"Matches_Won\"]]\n",
        "teamdf"
      ],
      "id": "4ba5fc7a",
      "execution_count": null,
      "outputs": [
        {
          "data": {
            "text/html": [
              "<div>\n",
              "<style scoped>\n",
              "    .dataframe tbody tr th:only-of-type {\n",
              "        vertical-align: middle;\n",
              "    }\n",
              "\n",
              "    .dataframe tbody tr th {\n",
              "        vertical-align: top;\n",
              "    }\n",
              "\n",
              "    .dataframe thead th {\n",
              "        text-align: right;\n",
              "    }\n",
              "</style>\n",
              "<table border=\"1\" class=\"dataframe\">\n",
              "  <thead>\n",
              "    <tr style=\"text-align: right;\">\n",
              "      <th></th>\n",
              "      <th>Team_Name</th>\n",
              "      <th>Matches_Won</th>\n",
              "    </tr>\n",
              "  </thead>\n",
              "  <tbody>\n",
              "    <tr>\n",
              "      <th>0</th>\n",
              "      <td>Mumbai Indians</td>\n",
              "      <td>4</td>\n",
              "    </tr>\n",
              "    <tr>\n",
              "      <th>1</th>\n",
              "      <td>Chennai Super Kings</td>\n",
              "      <td>3</td>\n",
              "    </tr>\n",
              "    <tr>\n",
              "      <th>2</th>\n",
              "      <td>Kolkata Knight Riders</td>\n",
              "      <td>2</td>\n",
              "    </tr>\n",
              "    <tr>\n",
              "      <th>3</th>\n",
              "      <td>Sunrisers Hyderabad</td>\n",
              "      <td>1</td>\n",
              "    </tr>\n",
              "    <tr>\n",
              "      <th>4</th>\n",
              "      <td>Rajasthan Royals</td>\n",
              "      <td>1</td>\n",
              "    </tr>\n",
              "    <tr>\n",
              "      <th>5</th>\n",
              "      <td>Deccan Chargers</td>\n",
              "      <td>1</td>\n",
              "    </tr>\n",
              "    <tr>\n",
              "      <th>6</th>\n",
              "      <td>Gujarat Lions</td>\n",
              "      <td>0</td>\n",
              "    </tr>\n",
              "    <tr>\n",
              "      <th>7</th>\n",
              "      <td>Rising Pune Supergiants</td>\n",
              "      <td>0</td>\n",
              "    </tr>\n",
              "    <tr>\n",
              "      <th>8</th>\n",
              "      <td>Royal Challengers Bangalore</td>\n",
              "      <td>0</td>\n",
              "    </tr>\n",
              "    <tr>\n",
              "      <th>9</th>\n",
              "      <td>Delhi Daredevils</td>\n",
              "      <td>0</td>\n",
              "    </tr>\n",
              "    <tr>\n",
              "      <th>10</th>\n",
              "      <td>Kings XI Punjab</td>\n",
              "      <td>0</td>\n",
              "    </tr>\n",
              "    <tr>\n",
              "      <th>11</th>\n",
              "      <td>Kochi Tuskers Kerala</td>\n",
              "      <td>0</td>\n",
              "    </tr>\n",
              "    <tr>\n",
              "      <th>12</th>\n",
              "      <td>Pune Warriors</td>\n",
              "      <td>0</td>\n",
              "    </tr>\n",
              "    <tr>\n",
              "      <th>13</th>\n",
              "      <td>Delhi Capitals</td>\n",
              "      <td>0</td>\n",
              "    </tr>\n",
              "  </tbody>\n",
              "</table>\n",
              "</div>"
            ],
            "text/plain": [
              "                      Team_Name Matches_Won\n",
              "0                Mumbai Indians           4\n",
              "1           Chennai Super Kings           3\n",
              "2         Kolkata Knight Riders           2\n",
              "3           Sunrisers Hyderabad           1\n",
              "4              Rajasthan Royals           1\n",
              "5               Deccan Chargers           1\n",
              "6                 Gujarat Lions           0\n",
              "7       Rising Pune Supergiants           0\n",
              "8   Royal Challengers Bangalore           0\n",
              "9              Delhi Daredevils           0\n",
              "10              Kings XI Punjab           0\n",
              "11         Kochi Tuskers Kerala           0\n",
              "12                Pune Warriors           0\n",
              "13               Delhi Capitals           0"
            ]
          },
          "execution_count": 51,
          "metadata": {},
          "output_type": "execute_result"
        }
      ]
    },
    {
      "cell_type": "code",
      "metadata": {
        "id": "03265f68"
      },
      "source": [
        "Since performance all team members from the mumbai indians team looks promising, sponsors should endorse for mumbai indians"
      ],
      "id": "03265f68",
      "execution_count": null,
      "outputs": []
    }
  ]
}